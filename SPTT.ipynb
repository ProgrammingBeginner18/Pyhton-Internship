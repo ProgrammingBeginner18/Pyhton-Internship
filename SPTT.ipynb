{
 "cells": [
  {
   "cell_type": "code",
   "execution_count": null,
   "id": "754018c0",
   "metadata": {},
   "outputs": [],
   "source": [
    "#First import Speech Recognition\n",
    "import speech_recognition as sr\n",
    "# To check the list of Microphones available\n",
    "sr.Microphone.list_microphone_names()"
   ]
  },
  {
   "cell_type": "code",
   "execution_count": null,
   "id": "8246a32b",
   "metadata": {},
   "outputs": [],
   "source": [
    "def mic():\n",
    "    import speech_recognition as sr\n",
    "\n",
    "    r = sr.Recognizer()\n",
    "\n",
    "    mic = sr.Microphone()\n",
    "    with mic as source:\n",
    "        r.adjust_for_ambient_noise(source, duration = 0.25)\n",
    "        audio = r.listen(source)\n",
    "        \n",
    "    with open(\"rec.wav\", \"wb\") as f:\n",
    "        f.write(audio.get_wav_data())\n",
    "    \n",
    "    print(r.recognize_google(audio))"
   ]
  },
  {
   "cell_type": "code",
   "execution_count": null,
   "id": "a445d3f2",
   "metadata": {},
   "outputs": [],
   "source": [
    "mic()"
   ]
  },
  {
   "cell_type": "code",
   "execution_count": null,
   "id": "019baee6",
   "metadata": {},
   "outputs": [],
   "source": [
    "def audio_file(file):\n",
    "    import speech_recognition as sr\n",
    "    r = sr.Recognizer()\n",
    "    \n",
    "    audio_file = sr.AudioFile(file)\n",
    "    with audio_file as source:\n",
    "        audio = r.record(source)\n",
    "    \n",
    "    print(r.recognize_google(audio))"
   ]
  },
  {
   "cell_type": "code",
   "execution_count": null,
   "id": "a44edf3a",
   "metadata": {},
   "outputs": [],
   "source": [
    "audio_file('rec.wav')"
   ]
  }
 ],
 "metadata": {
  "kernelspec": {
   "display_name": "Python 3",
   "language": "python",
   "name": "python3"
  },
  "language_info": {
   "codemirror_mode": {
    "name": "ipython",
    "version": 3
   },
   "file_extension": ".py",
   "mimetype": "text/x-python",
   "name": "python",
   "nbconvert_exporter": "python",
   "pygments_lexer": "ipython3",
   "version": "3.8.8"
  }
 },
 "nbformat": 4,
 "nbformat_minor": 5
}
